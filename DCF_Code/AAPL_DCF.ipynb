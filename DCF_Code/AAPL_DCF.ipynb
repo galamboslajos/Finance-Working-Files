{
 "cells": [
  {
   "cell_type": "markdown",
   "id": "5948f20c",
   "metadata": {},
   "source": [
    "# AAPL DCF"
   ]
  },
  {
   "cell_type": "markdown",
   "id": "126a10df",
   "metadata": {},
   "source": [
    "## Introduction: \n",
    "This file includes a Discounted Cash Flow model for Apple (AAPL) stock with broad assumtions on growth. Theoretically, the basic idea of the DCF model is summarized by my sildes: https://github.com/galamboslajos/Finance-Working-Files/blob/main/DCF_Code/DCF_model.pdf"
   ]
  },
  {
   "cell_type": "code",
   "execution_count": 69,
   "id": "63a1dab1",
   "metadata": {},
   "outputs": [],
   "source": [
    "# Installing necessary packages\n",
    "#!pip install yfinance\n",
    "#!pip install yahoo_fin"
   ]
  },
  {
   "cell_type": "code",
   "execution_count": 83,
   "id": "aec0ecd2",
   "metadata": {},
   "outputs": [],
   "source": [
    "import yfinance as yf\n",
    "import yahoo_fin.stock_info as si\n",
    "import pandas as pd\n",
    "import matplotlib.pyplot as plt\n",
    "import datetime\n",
    "import numpy as np"
   ]
  },
  {
   "cell_type": "code",
   "execution_count": 71,
   "id": "bab9cb16",
   "metadata": {},
   "outputs": [
    {
     "name": "stderr",
     "output_type": "stream",
     "text": [
      "[*********************100%***********************]  1 of 1 completed"
     ]
    },
    {
     "name": "stdout",
     "output_type": "stream",
     "text": [
      "                 Open       High        Low      Close  Adj Close     Volume\n",
      "Date                                                                        \n",
      "2016-01-04  25.652500  26.342501  25.500000  26.337500  23.886835  270597600\n",
      "2016-01-05  26.437500  26.462500  25.602501  25.677500  23.288244  223164000\n",
      "2016-01-06  25.139999  25.592501  24.967501  25.174999  22.832502  273829600\n",
      "2016-01-07  24.670000  25.032499  24.107500  24.112499  21.868864  324377600\n",
      "2016-01-08  24.637501  24.777500  24.190001  24.240000  21.984503  283192000\n"
     ]
    },
    {
     "name": "stderr",
     "output_type": "stream",
     "text": [
      "\n"
     ]
    }
   ],
   "source": [
    "# Get the data of the stock AAPL\n",
    "data = yf.download('AAPL','2016-01-01','2021-12-31')\n",
    "\n",
    "# Print the first five rows of the data\n",
    "print(data.head())"
   ]
  },
  {
   "cell_type": "markdown",
   "id": "223f397b",
   "metadata": {},
   "source": [
    "The chunk above goes to https://finance.yahoo.com/quote/AAPL/ and gets daily share price. The daily share price is not a necessary informtion at this stage, however, later it will be used. All the financials, such as the income statement, cashflows, and the balance sheet is taken from finance.yahoo. "
   ]
  },
  {
   "cell_type": "markdown",
   "id": "910a950c",
   "metadata": {},
   "source": [
    "## The Cashflow:"
   ]
  },
  {
   "cell_type": "code",
   "execution_count": 72,
   "id": "5c82b4f5",
   "metadata": {},
   "outputs": [
    {
     "name": "stdout",
     "output_type": "stream",
     "text": [
      "Apple Cash Flow Data (in Billions):\n",
      "                                               2023-09-30 2022-09-30 2021-09-30 2020-09-30\n",
      "Free Cash Flow                                     99.584    111.443     92.953     73.365\n",
      "Repurchase Of Capital Stock                        -77.55    -89.402    -85.971    -72.358\n",
      "Repayment Of Debt                                 -11.151     -9.543      -8.75    -12.629\n",
      "Issuance Of Debt                                    5.228      5.465     20.393     16.091\n",
      "Issuance Of Capital Stock                             NaN        NaN      1.105       0.88\n",
      "Capital Expenditure                               -10.959    -10.708    -11.085     -7.309\n",
      "Interest Paid Supplemental Data                     3.803      2.865      2.687      3.002\n",
      "Income Tax Paid Supplemental Data                  18.679     19.573     25.385      9.501\n",
      "End Cash Position                                  30.737     24.977     35.929     39.789\n",
      "Beginning Cash Position                            24.977     35.929     39.789     50.224\n",
      "Changes In Cash                                      5.76    -10.952      -3.86    -10.435\n",
      "Financing Cash Flow                              -108.488   -110.749    -93.353     -86.82\n",
      "Cash Flow From Continuing Financing Activities   -108.488   -110.749    -93.353     -86.82\n",
      "Net Other Financing Charges                        -6.012     -6.383      -5.58      -2.88\n",
      "Cash Dividends Paid                               -15.025    -14.841    -14.467    -14.081\n",
      "Common Stock Dividend Paid                        -15.025    -14.841    -14.467    -14.081\n",
      "Net Common Stock Issuance                          -77.55    -89.402    -85.971    -72.358\n",
      "Common Stock Payments                              -77.55    -89.402    -85.971    -72.358\n",
      "Common Stock Issuance                                 NaN        NaN      1.105       0.88\n",
      "Net Issuance Payments Of Debt                      -9.901     -0.123     12.665      2.499\n",
      "Net Short Term Debt Issuance                       -3.978      3.955      1.022     -0.963\n",
      "Net Long Term Debt Issuance                        -5.923     -4.078     11.643      3.462\n",
      "Long Term Debt Payments                           -11.151     -9.543      -8.75    -12.629\n",
      "Long Term Debt Issuance                             5.228      5.465     20.393     16.091\n",
      "Investing Cash Flow                                 3.705    -22.354    -14.545     -4.289\n",
      "Cash Flow From Continuing Investing Activities      3.705    -22.354    -14.545     -4.289\n",
      "Net Other Investing Changes                        -1.337     -2.086     -0.385     -0.909\n",
      "Net Investment Purchase And Sale                   16.001      -9.56     -3.075      5.453\n",
      "Sale Of Investment                                 45.514     67.363    106.483    120.391\n",
      "Purchase Of Investment                            -29.513    -76.923   -109.558   -114.938\n",
      "Net Business Purchase And Sale                        NaN     -0.306     -0.033     -1.524\n",
      "Purchase Of Business                                  NaN     -0.306     -0.033     -1.524\n",
      "Net PPE Purchase And Sale                         -10.959    -10.708    -11.085     -7.309\n",
      "Purchase Of PPE                                   -10.959    -10.708    -11.085     -7.309\n",
      "Operating Cash Flow                               110.543    122.151    104.038     80.674\n",
      "Cash Flow From Continuing Operating Activities    110.543    122.151    104.038     80.674\n",
      "Change In Working Capital                          -6.577        1.2     -4.911       5.69\n",
      "Change In Other Working Capital                       NaN      0.478      1.676      2.081\n",
      "Change In Other Current Liabilities                 3.031       6.11      7.475      8.916\n",
      "Change In Other Current Assets                     -5.684     -6.499     -8.042     -9.588\n",
      "Change In Payables And Accrued Expense             -1.889      9.448     12.326     -4.062\n",
      "Change In Payable                                  -1.889      9.448     12.326     -4.062\n",
      "Change In Account Payable                          -1.889      9.448     12.326     -4.062\n",
      "Change In Inventory                                -1.618      1.484     -2.642     -0.127\n",
      "Change In Receivables                              -0.417     -9.343    -14.028       8.47\n",
      "Changes In Account Receivables                     -1.688     -1.823    -10.125      6.917\n",
      "Other Non Cash Items                               -2.227      1.006     -4.921     -0.097\n",
      "Stock Based Compensation                           10.833      9.038      7.906      6.829\n",
      "Deferred Tax                                          NaN      0.895     -4.774     -0.215\n",
      "Deferred Income Tax                                   NaN      0.895     -4.774     -0.215\n",
      "Depreciation Amortization Depletion                11.519     11.104     11.284     11.056\n",
      "Depreciation And Amortization                      11.519     11.104     11.284     11.056\n",
      "Net Income From Continuing Operations              96.995     99.803      94.68     57.411\n"
     ]
    }
   ],
   "source": [
    "# Get the cashlfow data\n",
    "aapl = yf.Ticker(\"AAPL\")\n",
    "\n",
    "# Get cash flow information\n",
    "cashflow = aapl.cashflow\n",
    "\n",
    "# Convert the numbers to billions\n",
    "cashflow_df_in_billions = cashflow_df / 1e9\n",
    "\n",
    "print(\"Apple Cash Flow Data (in Billions):\")\n",
    "print(cashflow_df_in_billions.to_string())"
   ]
  },
  {
   "cell_type": "markdown",
   "id": "5c774c82",
   "metadata": {},
   "source": [
    "We see a detailed list of the different cashflow items between 2020 and 2023 in billions of USD. Some entries are empty, giving \"NaN\". "
   ]
  },
  {
   "cell_type": "markdown",
   "id": "712c311d",
   "metadata": {},
   "source": [
    "## The Income Statement:"
   ]
  },
  {
   "cell_type": "code",
   "execution_count": 73,
   "id": "84f18aa9",
   "metadata": {},
   "outputs": [
    {
     "name": "stdout",
     "output_type": "stream",
     "text": [
      "Apple Income Statement Data (in Billions):\n",
      "                                                           2023-09-30 2022-09-30 2021-09-30 2020-09-30\n",
      "Tax Effect Of Unusual Items                                       0.0        0.0        0.0        0.0\n",
      "Tax Rate For Calcs                                                0.0        0.0        0.0        0.0\n",
      "Normalized EBITDA                                             129.188    133.138    123.136      81.02\n",
      "Net Income From Continuing Operation Net Minority Interest     96.995     99.803      94.68     57.411\n",
      "Reconciled Depreciation                                        11.519     11.104     11.284     11.056\n",
      "Reconciled Cost Of Revenue                                    214.137    223.546    212.981    169.559\n",
      "EBITDA                                                        129.188    133.138    123.136      81.02\n",
      "EBIT                                                          117.669    122.034    111.852     69.964\n",
      "Net Interest Income                                            -0.183     -0.106      0.198       0.89\n",
      "Interest Expense                                                3.933      2.931      2.645      2.873\n",
      "Interest Income                                                  3.75      2.825      2.843      3.763\n",
      "Normalized Income                                              96.995     99.803      94.68     57.411\n",
      "Net Income From Continuing And Discontinued Operation          96.995     99.803      94.68     57.411\n",
      "Total Expenses                                                268.984    274.891    256.868    208.227\n",
      "Total Operating Income As Reported                            114.301    119.437    108.949     66.288\n",
      "Diluted Average Shares                                      15.812547  16.325819  16.864919  17.528214\n",
      "Basic Average Shares                                        15.744231  16.215963  16.701272  17.352119\n",
      "Diluted EPS                                                       0.0        0.0        0.0        0.0\n",
      "Basic EPS                                                         0.0        0.0        0.0        0.0\n",
      "Diluted NI Availto Com Stockholders                            96.995     99.803      94.68     57.411\n",
      "Net Income Common Stockholders                                 96.995     99.803      94.68     57.411\n",
      "Net Income                                                     96.995     99.803      94.68     57.411\n",
      "Net Income Including Noncontrolling Interests                  96.995     99.803      94.68     57.411\n",
      "Net Income Continuous Operations                               96.995     99.803      94.68     57.411\n",
      "Tax Provision                                                  16.741       19.3     14.527       9.68\n",
      "Pretax Income                                                 113.736    119.103    109.207     67.091\n",
      "Other Income Expense                                           -0.382     -0.228       0.06     -0.087\n",
      "Other Non Operating Income Expenses                            -0.382     -0.228       0.06     -0.087\n",
      "Net Non Operating Interest Income Expense                      -0.183     -0.106      0.198       0.89\n",
      "Interest Expense Non Operating                                  3.933      2.931      2.645      2.873\n",
      "Interest Income Non Operating                                    3.75      2.825      2.843      3.763\n",
      "Operating Income                                              114.301    119.437    108.949     66.288\n",
      "Operating Expense                                              54.847     51.345     43.887     38.668\n",
      "Research And Development                                       29.915     26.251     21.914     18.752\n",
      "Selling General And Administration                             24.932     25.094     21.973     19.916\n",
      "Gross Profit                                                  169.148    170.782    152.836    104.956\n",
      "Cost Of Revenue                                               214.137    223.546    212.981    169.559\n",
      "Total Revenue                                                 383.285    394.328    365.817    274.515\n",
      "Operating Revenue                                             383.285    394.328    365.817    274.515\n"
     ]
    }
   ],
   "source": [
    "# Get the income statement data\n",
    "income_statement = aapl.financials\n",
    "\n",
    "# Convert the numbers to billions\n",
    "income_statement_df_in_billions = income_statement / 1e9\n",
    "\n",
    "# Print the DataFrame with numbers in billions\n",
    "print(\"Apple Income Statement Data (in Billions):\")\n",
    "print(income_statement_df_in_billions.to_string())\n"
   ]
  },
  {
   "cell_type": "markdown",
   "id": "ecd3f0e8",
   "metadata": {},
   "source": [
    "Here we see an exhasutive list of the different income related items between 2020 and 2023 in billions of USD. The departure of the Free Cash Flow method is the EBIT (Earnings Before Interest and Tax). "
   ]
  },
  {
   "cell_type": "markdown",
   "id": "7ffaa0b0",
   "metadata": {},
   "source": [
    "## Free Cash Flow:\n",
    "In the following chunks I calculate the Free Cash Flow of AAPL, and I will later label it as Free Cash to Firm. The reason for this is that Free Cash Flow is aslo directly available from finance.yahoo in the cashflow of AAPL and I want to compare wih my caculations. I see  deviation of the provided and calculated numbers. "
   ]
  },
  {
   "cell_type": "code",
   "execution_count": 74,
   "id": "059bda1f",
   "metadata": {},
   "outputs": [
    {
     "name": "stdout",
     "output_type": "stream",
     "text": [
      "Apple Cash Flow Data (in Billions):\n",
      "                                               2023-09-30 2022-09-30 2021-09-30 2020-09-30\n",
      "Free Cash Flow                                     99.584    111.443     92.953     73.365\n",
      "Repurchase Of Capital Stock                        -77.55    -89.402    -85.971    -72.358\n",
      "Repayment Of Debt                                 -11.151     -9.543      -8.75    -12.629\n",
      "Issuance Of Debt                                    5.228      5.465     20.393     16.091\n",
      "Issuance Of Capital Stock                             NaN        NaN      1.105       0.88\n",
      "Capital Expenditure                               -10.959    -10.708    -11.085     -7.309\n",
      "Interest Paid Supplemental Data                     3.803      2.865      2.687      3.002\n",
      "Income Tax Paid Supplemental Data                  18.679     19.573     25.385      9.501\n",
      "End Cash Position                                  30.737     24.977     35.929     39.789\n",
      "Beginning Cash Position                            24.977     35.929     39.789     50.224\n",
      "Changes In Cash                                      5.76    -10.952      -3.86    -10.435\n",
      "Financing Cash Flow                              -108.488   -110.749    -93.353     -86.82\n",
      "Cash Flow From Continuing Financing Activities   -108.488   -110.749    -93.353     -86.82\n",
      "Net Other Financing Charges                        -6.012     -6.383      -5.58      -2.88\n",
      "Cash Dividends Paid                               -15.025    -14.841    -14.467    -14.081\n",
      "Common Stock Dividend Paid                        -15.025    -14.841    -14.467    -14.081\n",
      "Net Common Stock Issuance                          -77.55    -89.402    -85.971    -72.358\n",
      "Common Stock Payments                              -77.55    -89.402    -85.971    -72.358\n",
      "Common Stock Issuance                                 NaN        NaN      1.105       0.88\n",
      "Net Issuance Payments Of Debt                      -9.901     -0.123     12.665      2.499\n",
      "Net Short Term Debt Issuance                       -3.978      3.955      1.022     -0.963\n",
      "Net Long Term Debt Issuance                        -5.923     -4.078     11.643      3.462\n",
      "Long Term Debt Payments                           -11.151     -9.543      -8.75    -12.629\n",
      "Long Term Debt Issuance                             5.228      5.465     20.393     16.091\n",
      "Investing Cash Flow                                 3.705    -22.354    -14.545     -4.289\n",
      "Cash Flow From Continuing Investing Activities      3.705    -22.354    -14.545     -4.289\n",
      "Net Other Investing Changes                        -1.337     -2.086     -0.385     -0.909\n",
      "Net Investment Purchase And Sale                   16.001      -9.56     -3.075      5.453\n",
      "Sale Of Investment                                 45.514     67.363    106.483    120.391\n",
      "Purchase Of Investment                            -29.513    -76.923   -109.558   -114.938\n",
      "Net Business Purchase And Sale                        NaN     -0.306     -0.033     -1.524\n",
      "Purchase Of Business                                  NaN     -0.306     -0.033     -1.524\n",
      "Net PPE Purchase And Sale                         -10.959    -10.708    -11.085     -7.309\n",
      "Purchase Of PPE                                   -10.959    -10.708    -11.085     -7.309\n",
      "Operating Cash Flow                               110.543    122.151    104.038     80.674\n",
      "Cash Flow From Continuing Operating Activities    110.543    122.151    104.038     80.674\n",
      "Change In Working Capital                          -6.577        1.2     -4.911       5.69\n",
      "Change In Other Working Capital                       NaN      0.478      1.676      2.081\n",
      "Change In Other Current Liabilities                 3.031       6.11      7.475      8.916\n",
      "Change In Other Current Assets                     -5.684     -6.499     -8.042     -9.588\n",
      "Change In Payables And Accrued Expense             -1.889      9.448     12.326     -4.062\n",
      "Change In Payable                                  -1.889      9.448     12.326     -4.062\n",
      "Change In Account Payable                          -1.889      9.448     12.326     -4.062\n",
      "Change In Inventory                                -1.618      1.484     -2.642     -0.127\n",
      "Change In Receivables                              -0.417     -9.343    -14.028       8.47\n",
      "Changes In Account Receivables                     -1.688     -1.823    -10.125      6.917\n",
      "Other Non Cash Items                               -2.227      1.006     -4.921     -0.097\n",
      "Stock Based Compensation                           10.833      9.038      7.906      6.829\n",
      "Deferred Tax                                          NaN      0.895     -4.774     -0.215\n",
      "Deferred Income Tax                                   NaN      0.895     -4.774     -0.215\n",
      "Depreciation Amortization Depletion                11.519     11.104     11.284     11.056\n",
      "Depreciation And Amortization                      11.519     11.104     11.284     11.056\n",
      "Net Income From Continuing Operations              96.995     99.803      94.68     57.411\n",
      "Free Cash Flow to Firm                          122.01351  117.01886  115.64308   67.94656\n"
     ]
    }
   ],
   "source": [
    "# Calculating FCF (Comparing it with the pre-calculated ones Free Cash Flow vs Free Cash Flow to Firm)\n",
    "\n",
    "# Step 1: Manually set the tax rate (assumed to be 21%)\n",
    "tax_rate = 0.21\n",
    "\n",
    "# Access the EBIT row from the income_statement DataFrame\n",
    "ebit = income_statement.loc['EBIT']\n",
    "\n",
    "# Calculate EBIT after taxes\n",
    "ebit_after_taxes = ebit * (1 - tax_rate)\n",
    "\n",
    "# Step 2: Add back depreciation and amortization (assuming it's a row too)\n",
    "depreciation_amortization = cashflow.loc['Depreciation And Amortization']\n",
    "\n",
    "# Step 3: Subtract capital expenditures (also assumed to be a row)\n",
    "capital_expenditure = cashflow.loc['Capital Expenditure']\n",
    "\n",
    "# Step 4: Adjust for change in working capital (assumed to be a row)\n",
    "change_in_working_capital = cashflow.loc['Change In Working Capital']\n",
    "\n",
    "# Calculate Free Cash Flow (FCF)\n",
    "free_cash_flow = (\n",
    "    ebit_after_taxes + \n",
    "    depreciation_amortization - \n",
    "    capital_expenditure - \n",
    "    change_in_working_capital\n",
    ")\n",
    "\n",
    "# Add FCF as a new row to the cashflow DataFrame for context\n",
    "cashflow.loc['Free Cash Flow to Firm'] = free_cash_flow\n",
    "\n",
    "# Convert the numbers to billions\n",
    "cashflow_df_in_billions = cashflow / 1e9\n",
    "\n",
    "print(\"Apple Cash Flow Data (in Billions):\")\n",
    "print(cashflow_df_in_billions.to_string())"
   ]
  },
  {
   "cell_type": "markdown",
   "id": "eedc2a42",
   "metadata": {},
   "source": [
    "I append the previous cashflow statement of AAPL with the calculated FCF. The calculated Free Cash Flow is shown in the last row of the data frame, meanwhile the provided ones are in the first row. I see deviations between the two, might be due to different methodologies."
   ]
  },
  {
   "cell_type": "markdown",
   "id": "afb0135b",
   "metadata": {},
   "source": [
    "## FCF, FCFE, FCFD\n",
    "In the following section I provide different Free Cash Flow types: the Free Cash Flow to Equity (FCFE) and Debt (FCFD) holders. I add those also to the cashflow statement of AAPL. "
   ]
  },
  {
   "cell_type": "code",
   "execution_count": 75,
   "id": "2797d6ed",
   "metadata": {},
   "outputs": [
    {
     "name": "stdout",
     "output_type": "stream",
     "text": [
      "Apple Cash Flow Data (in Billions):\n",
      "                                               2023-09-30 2022-09-30 2021-09-30 2020-09-30\n",
      "Free Cash Flow                                     99.584    111.443     92.953     73.365\n",
      "Repurchase Of Capital Stock                        -77.55    -89.402    -85.971    -72.358\n",
      "Repayment Of Debt                                 -11.151     -9.543      -8.75    -12.629\n",
      "Issuance Of Debt                                    5.228      5.465     20.393     16.091\n",
      "Issuance Of Capital Stock                             NaN        NaN      1.105       0.88\n",
      "Capital Expenditure                               -10.959    -10.708    -11.085     -7.309\n",
      "Interest Paid Supplemental Data                     3.803      2.865      2.687      3.002\n",
      "Income Tax Paid Supplemental Data                  18.679     19.573     25.385      9.501\n",
      "End Cash Position                                  30.737     24.977     35.929     39.789\n",
      "Beginning Cash Position                            24.977     35.929     39.789     50.224\n",
      "Changes In Cash                                      5.76    -10.952      -3.86    -10.435\n",
      "Financing Cash Flow                              -108.488   -110.749    -93.353     -86.82\n",
      "Cash Flow From Continuing Financing Activities   -108.488   -110.749    -93.353     -86.82\n",
      "Net Other Financing Charges                        -6.012     -6.383      -5.58      -2.88\n",
      "Cash Dividends Paid                               -15.025    -14.841    -14.467    -14.081\n",
      "Common Stock Dividend Paid                        -15.025    -14.841    -14.467    -14.081\n",
      "Net Common Stock Issuance                          -77.55    -89.402    -85.971    -72.358\n",
      "Common Stock Payments                              -77.55    -89.402    -85.971    -72.358\n",
      "Common Stock Issuance                                 NaN        NaN      1.105       0.88\n",
      "Net Issuance Payments Of Debt                      -9.901     -0.123     12.665      2.499\n",
      "Net Short Term Debt Issuance                       -3.978      3.955      1.022     -0.963\n",
      "Net Long Term Debt Issuance                        -5.923     -4.078     11.643      3.462\n",
      "Long Term Debt Payments                           -11.151     -9.543      -8.75    -12.629\n",
      "Long Term Debt Issuance                             5.228      5.465     20.393     16.091\n",
      "Investing Cash Flow                                 3.705    -22.354    -14.545     -4.289\n",
      "Cash Flow From Continuing Investing Activities      3.705    -22.354    -14.545     -4.289\n",
      "Net Other Investing Changes                        -1.337     -2.086     -0.385     -0.909\n",
      "Net Investment Purchase And Sale                   16.001      -9.56     -3.075      5.453\n",
      "Sale Of Investment                                 45.514     67.363    106.483    120.391\n",
      "Purchase Of Investment                            -29.513    -76.923   -109.558   -114.938\n",
      "Net Business Purchase And Sale                        NaN     -0.306     -0.033     -1.524\n",
      "Purchase Of Business                                  NaN     -0.306     -0.033     -1.524\n",
      "Net PPE Purchase And Sale                         -10.959    -10.708    -11.085     -7.309\n",
      "Purchase Of PPE                                   -10.959    -10.708    -11.085     -7.309\n",
      "Operating Cash Flow                               110.543    122.151    104.038     80.674\n",
      "Cash Flow From Continuing Operating Activities    110.543    122.151    104.038     80.674\n",
      "Change In Working Capital                          -6.577        1.2     -4.911       5.69\n",
      "Change In Other Working Capital                       NaN      0.478      1.676      2.081\n",
      "Change In Other Current Liabilities                 3.031       6.11      7.475      8.916\n",
      "Change In Other Current Assets                     -5.684     -6.499     -8.042     -9.588\n",
      "Change In Payables And Accrued Expense             -1.889      9.448     12.326     -4.062\n",
      "Change In Payable                                  -1.889      9.448     12.326     -4.062\n",
      "Change In Account Payable                          -1.889      9.448     12.326     -4.062\n",
      "Change In Inventory                                -1.618      1.484     -2.642     -0.127\n",
      "Change In Receivables                              -0.417     -9.343    -14.028       8.47\n",
      "Changes In Account Receivables                     -1.688     -1.823    -10.125      6.917\n",
      "Other Non Cash Items                               -2.227      1.006     -4.921     -0.097\n",
      "Stock Based Compensation                           10.833      9.038      7.906      6.829\n",
      "Deferred Tax                                          NaN      0.895     -4.774     -0.215\n",
      "Deferred Income Tax                                   NaN      0.895     -4.774     -0.215\n",
      "Depreciation Amortization Depletion                11.519     11.104     11.284     11.056\n",
      "Depreciation And Amortization                      11.519     11.104     11.284     11.056\n",
      "Net Income From Continuing Operations              96.995     99.803      94.68     57.411\n",
      "Free Cash Flow to Firm                          122.01351  117.01886  115.64308   67.94656\n",
      "Free Cash Flow to Equity                          105.682    108.701     77.601     67.864\n",
      "Free Cash Flow to Debt Holders                     -6.098      2.742     15.352      5.501\n"
     ]
    }
   ],
   "source": [
    "# Step 1: Access the FCF from the cashflow DataFrame (this is the free cash flow to the firm)\n",
    "fcf = cashflow.loc['Free Cash Flow']\n",
    "\n",
    "# Step 2: Calculate Free Cash Flow to Debt Holders (FCFDH)\n",
    "interest_paid = cashflow.loc['Interest Paid Supplemental Data']\n",
    "net_debt_repayment = cashflow.loc['Net Issuance Payments Of Debt']\n",
    "\n",
    "# FCFDH = Interest Paid + Net Debt Repayment (positive or negative depending on issuance or repayment)\n",
    "fcfdh = interest_paid + net_debt_repayment\n",
    "\n",
    "# Step 3: Calculate Free Cash Flow to Equity (FCFE)\n",
    "# FCFE = FCF - FCFDH (because FCFE is the residual after debt holders are paid)\n",
    "fcfe = fcf - fcfdh\n",
    "\n",
    "# Step 4: Add the FCFE and FCFDH rows to the cashflow DataFrame for context\n",
    "cashflow.loc['Free Cash Flow to Equity'] = fcfe\n",
    "cashflow.loc['Free Cash Flow to Debt Holders'] = fcfdh\n",
    "\n",
    "# Convert the numbers to billions\n",
    "cashflow_df_in_billions = cashflow / 1e9\n",
    "\n",
    "print(\"Apple Cash Flow Data (in Billions):\")\n",
    "print(cashflow_df_in_billions.to_string())\n"
   ]
  },
  {
   "cell_type": "markdown",
   "id": "bfe40793",
   "metadata": {},
   "source": [
    "We see significantly more cashflows for Equity holders than for Debtors."
   ]
  },
  {
   "cell_type": "markdown",
   "id": "7cbd0e39",
   "metadata": {},
   "source": [
    "## WACC \n",
    "The Weighted Average Cost of Capital is a crucial concept that basically takes a weighted average of the cost of debt and equity. The weights are stated by the market value of debt and market value of equity (the two if summed gives the enterpise value). The WACC is crucial for discounting future FCF values. To get to the market value of debt and equity we need to take a look at AAPL's balance sheet."
   ]
  },
  {
   "cell_type": "code",
   "execution_count": 77,
   "id": "b0add338",
   "metadata": {},
   "outputs": [
    {
     "name": "stdout",
     "output_type": "stream",
     "text": [
      "Apple Balance Sheet Data (in Billions):\n",
      "                                                    2023-09-30 2022-09-30 2021-09-30 2020-09-30\n",
      "Treasury Shares Number                                     0.0        NaN        NaN        NaN\n",
      "Ordinary Shares Number                               15.550061  15.943425  16.426786  16.976763\n",
      "Share Issued                                         15.550061  15.943425  16.426786  16.976763\n",
      "Net Debt                                                81.123     96.423     89.779      74.42\n",
      "Total Debt                                              123.93     132.48    136.522    122.278\n",
      "Tangible Book Value                                     62.146     50.672      63.09     65.339\n",
      "Invested Capital                                       173.234    170.741    187.809    177.775\n",
      "Working Capital                                         -1.742    -18.577      9.355     38.321\n",
      "Net Tangible Assets                                     62.146     50.672      63.09     65.339\n",
      "Capital Lease Obligations                               12.842     12.411     11.803      9.842\n",
      "Common Stock Equity                                     62.146     50.672      63.09     65.339\n",
      "Total Capitalization                                   157.427    149.631    172.196    164.006\n",
      "Total Equity Gross Minority Interest                    62.146     50.672      63.09     65.339\n",
      "Stockholders Equity                                     62.146     50.672      63.09     65.339\n",
      "Gains Losses Not Affecting Retained Earnings           -11.452    -11.109      0.163     -0.406\n",
      "Other Equity Adjustments                               -11.452    -11.109      0.163     -0.406\n",
      "Retained Earnings                                       -0.214     -3.068      5.562     14.966\n",
      "Capital Stock                                           73.812     64.849     57.365     50.779\n",
      "Common Stock                                            73.812     64.849     57.365     50.779\n",
      "Total Liabilities Net Minority Interest                290.437    302.083    287.912    258.549\n",
      "Total Non Current Liabilities Net Minority Interest    145.129    148.101    162.431    153.157\n",
      "Other Non Current Liabilities                           23.124     21.737     18.361     17.938\n",
      "Tradeand Other Payables Non Current                     15.457     16.657     24.689      28.17\n",
      "Long Term Debt And Capital Lease Obligation            106.548    109.707    119.381    107.049\n",
      "Long Term Capital Lease Obligation                      11.267     10.748     10.275      8.382\n",
      "Long Term Debt                                          95.281     98.959    109.106     98.667\n",
      "Current Liabilities                                    145.308    153.982    125.481    105.392\n",
      "Other Current Liabilities                               48.435      52.63     45.965     41.224\n",
      "Current Deferred Liabilities                             8.061      7.912      7.612      6.643\n",
      "Current Deferred Revenue                                 8.061      7.912      7.612      6.643\n",
      "Current Debt And Capital Lease Obligation               17.382     22.773     17.141     15.229\n",
      "Current Capital Lease Obligation                         1.575      1.663      1.528       1.46\n",
      "Current Debt                                            15.807      21.11     15.613     13.769\n",
      "Other Current Borrowings                                 9.822     11.128      9.613      8.773\n",
      "Commercial Paper                                         5.985      9.982        6.0      4.996\n",
      "Payables And Accrued Expenses                            71.43     70.667     54.763     42.296\n",
      "Payables                                                 71.43     70.667     54.763     42.296\n",
      "Total Tax Payable                                        8.819      6.552        NaN        NaN\n",
      "Income Tax Payable                                       8.819      6.552        NaN        NaN\n",
      "Accounts Payable                                        62.611     64.115     54.763     42.296\n",
      "Total Assets                                           352.583    352.755    351.002    323.888\n",
      "Total Non Current Assets                               209.017     217.35    216.166    180.175\n",
      "Other Non Current Assets                                36.245     28.636     38.762     33.952\n",
      "Non Current Deferred Assets                             17.852     15.375        NaN        NaN\n",
      "Non Current Deferred Taxes Assets                       17.852     15.375        NaN        NaN\n",
      "Investments And Advances                               100.544    120.805    127.877    100.887\n",
      "Other Investments                                          NaN    120.805    127.877    100.887\n",
      "Investmentin Financial Assets                          100.544    120.805    127.877    100.887\n",
      "Available For Sale Securities                          100.544    120.805    127.877    100.887\n",
      "Net PPE                                                 54.376     52.534     49.527     45.336\n",
      "Accumulated Depreciation                               -70.884     -72.34    -70.283     -66.76\n",
      "Gross PPE                                               125.26    124.874     119.81    112.096\n",
      "Leases                                                  12.839     11.271     11.023     10.283\n",
      "Other Properties                                        10.661     10.417     10.087       8.57\n",
      "Machinery Furniture Equipment                           78.314      81.06     78.659     75.291\n",
      "Land And Improvements                                   23.446     22.126     20.041     17.952\n",
      "Properties                                                 0.0        0.0        0.0        0.0\n",
      "Current Assets                                         143.566    135.405    134.836    143.713\n",
      "Other Current Assets                                    14.695     21.223     14.111     11.264\n",
      "Inventory                                                6.331      4.946       6.58      4.061\n",
      "Receivables                                             60.985     60.932     51.506     37.445\n",
      "Other Receivables                                       31.477     32.748     25.228     21.325\n",
      "Accounts Receivable                                     29.508     28.184     26.278      16.12\n",
      "Cash Cash Equivalents And Short Term Investments        61.555     48.304     62.639     90.943\n",
      "Other Short Term Investments                             31.59     24.658     27.699     52.927\n",
      "Cash And Cash Equivalents                               29.965     23.646      34.94     38.016\n",
      "Cash Equivalents                                         1.606        5.1     17.635     20.243\n",
      "Cash Financial                                          28.359     18.546     17.305     17.773\n"
     ]
    }
   ],
   "source": [
    "# Calculating WACC (getting data from the Balance Sheet for the market value of debt and market capitalization)\n",
    "# Get balance sheet data\n",
    "balance_sheet = aapl.balance_sheet\n",
    "\n",
    "# Convert the numbers to billions\n",
    "balance_sheet_df_in_billions = balance_sheet / 1e9\n",
    "\n",
    "print(\"Apple Balance Sheet Data (in Billions):\")\n",
    "print(balance_sheet_df_in_billions.to_string())"
   ]
  },
  {
   "cell_type": "markdown",
   "id": "408834d5",
   "metadata": {},
   "source": [
    "A long list of AAPL's balance sheet items is provided. The attention must go to debt related items (short and long term); and for the market value of equity the market capitalization is needed. The following chunk does exactly that and finalizes the WACC calculation by calculation the cost of equity with the CAPM method:"
   ]
  },
  {
   "cell_type": "markdown",
   "id": "b970a2a4",
   "metadata": {},
   "source": [
    "## WACC (cont.) "
   ]
  },
  {
   "cell_type": "code",
   "execution_count": 81,
   "id": "8e4e3eaf",
   "metadata": {},
   "outputs": [
    {
     "name": "stdout",
     "output_type": "stream",
     "text": [
      "Cost of Equity: 9.60%\n",
      "Cost of Debt: 3.42%\n",
      "Weight of Equity: 96.85%\n",
      "Weight of Debt: 3.15%\n",
      "Weighted Average Cost of Capital (WACC): 9.38%\n"
     ]
    }
   ],
   "source": [
    "# WACC\n",
    "# Market capitalization (in dollars)\n",
    "market_cap = aapl.info['marketCap']\n",
    "\n",
    "# Step 1: Extract relevant financial data from balance sheet and cash flow\n",
    "long_term_debt_label = 'Long Term Debt'\n",
    "short_term_debt_label = 'Current Debt'\n",
    "\n",
    "long_term_debt = balance_sheet.loc[long_term_debt_label][0] if long_term_debt_label in balance_sheet.index else 0\n",
    "short_term_debt = balance_sheet.loc[short_term_debt_label][0] if short_term_debt_label in balance_sheet.index else 0\n",
    "\n",
    "# Calculate total debt\n",
    "total_debt = long_term_debt + short_term_debt\n",
    "\n",
    "# Interest paid from cash flow statement\n",
    "interest_paid = cashflow.loc['Interest Paid Supplemental Data'][0]\n",
    "\n",
    "# Step 2: Cost of Equity (CAPM formula)\n",
    "risk_free_rate = 0.03  # Example: 3% risk-free rate\n",
    "market_risk_premium = 0.055  # Example: 5% market risk premium\n",
    "beta = 1.2  # Assumed beta for Apple\n",
    "\n",
    "cost_of_equity = risk_free_rate + beta * market_risk_premium\n",
    "print(f\"Cost of Equity: {cost_of_equity * 100:.2f}%\")\n",
    "\n",
    "# Step 3: Cost of Debt\n",
    "cost_of_debt = interest_paid / total_debt if total_debt > 0 else 0\n",
    "print(f\"Cost of Debt: {cost_of_debt * 100:.2f}%\")\n",
    "\n",
    "# Step 4: Weights of Debt and Equity\n",
    "total_capital = market_cap + total_debt\n",
    "weight_of_equity = market_cap / total_capital\n",
    "weight_of_debt = total_debt / total_capital\n",
    "print(f\"Weight of Equity: {weight_of_equity * 100:.2f}%\")\n",
    "print(f\"Weight of Debt: {weight_of_debt * 100:.2f}%\")\n",
    "\n",
    "# Step 5: Corporate Tax Rate\n",
    "corporate_tax_rate = 0.21  # Assume 21% tax rate\n",
    "\n",
    "# Step 6: WACC Calculation\n",
    "wacc = (weight_of_equity * cost_of_equity) + (weight_of_debt * cost_of_debt * (1 - corporate_tax_rate))\n",
    "\n",
    "# Display the WACC\n",
    "print(f\"Weighted Average Cost of Capital (WACC): {wacc * 100:.2f}%\")"
   ]
  },
  {
   "cell_type": "markdown",
   "id": "91587ecf",
   "metadata": {},
   "source": [
    "Here it is confirmed again, that the cost of capital is heavily biased towards equity (96.85% of the weight)."
   ]
  },
  {
   "cell_type": "markdown",
   "id": "e0a79851",
   "metadata": {},
   "source": [
    "## Terminal Value and Growth Rate:\n",
    "First, a growth rate between previous years' FCF is calculated, than applied for the next 5 year period. After that, the terminal value is calculated (a perpetuity) with an assumed growth rate. "
   ]
  },
  {
   "cell_type": "code",
   "execution_count": 96,
   "id": "262c8bb4",
   "metadata": {},
   "outputs": [
    {
     "name": "stdout",
     "output_type": "stream",
     "text": [
      "Average Growth Rate: 11.98%\n",
      "Projected Future Free Cash Flows (based on historical average growth rate, in billions):\n",
      "Year 1: 111.52 billion\n",
      "Year 2: 124.88 billion\n",
      "Year 3: 139.85 billion\n",
      "Year 4: 156.60 billion\n",
      "Year 5: 175.37 billion\n",
      "\n",
      "Terminal Value (in billions): 4201.29 billion\n",
      "Assumed Terminal Growth Rate of 5%\n"
     ]
    }
   ],
   "source": [
    "# Retrieve historical Free Cash Flow (FCF) data for calculating growth rates\n",
    "historical_fcfs = cashflow.loc['Free Cash Flow']\n",
    "\n",
    "# Reverse the order of the FCFs to ensure we're calculating growth in the correct direction (oldest to newest)\n",
    "historical_fcfs = historical_fcfs[::-1]  # Reverse the order of FCFs\n",
    "\n",
    "# Calculate average annual growth rate based on historical FCFs\n",
    "historical_growth_rates = []\n",
    "for i in range(1, len(historical_fcfs)):\n",
    "    growth_rate = (historical_fcfs[i] - historical_fcfs[i - 1]) / historical_fcfs[i - 1]\n",
    "    historical_growth_rates.append(growth_rate)\n",
    "\n",
    "\n",
    "# Average growth rate over the historical period\n",
    "avg_growth_rate = np.mean(historical_growth_rates)\n",
    "\n",
    "\n",
    "# Project future FCFs using the calculated average growth rate over the forecast period\n",
    "forecast_years = 5  # Forecast period\n",
    "initial_fcf = historical_fcfs[-1]  # Use the most recent FCF as the starting point (now last after reversing)\n",
    "\n",
    "# Project future FCFs over the forecast period\n",
    "future_fcfs = [initial_fcf * (1 + avg_growth_rate) ** year for year in range(1, forecast_years + 1)]\n",
    "\n",
    "# Convert the projected FCFs to billions\n",
    "future_fcfs_in_billions = [fcf / 1e9 for fcf in future_fcfs]\n",
    "\n",
    "print(f\"Average Growth Rate: {avg_growth_rate * 100:.2f}%\")\n",
    "\n",
    "# Display the projected FCFs for each year\n",
    "print(\"Projected Future Free Cash Flows (based on historical average growth rate, in billions):\")\n",
    "for i, fcf in enumerate(future_fcfs_in_billions, 1):\n",
    "    print(f\"Year {i}: {fcf:.2f} billion\")\n",
    "\n",
    "\n",
    "# Get the final year FCF for terminal value calculation (FCF_n)\n",
    "final_year_fcf = future_fcfs[-1]\n",
    "\n",
    "# Manually set perpetual growth rate for terminal value\n",
    "terminal_growth_rate = 0.05  # Example: 5% perpetual growth rate\n",
    "\n",
    "# Calculate Terminal Value using the manually set perpetual growth rate\n",
    "terminal_value = (final_year_fcf * (1 + terminal_growth_rate)) / (wacc - terminal_growth_rate)\n",
    "\n",
    "# Convert the Terminal Value to billions\n",
    "terminal_value_in_billions = terminal_value / 1e9\n",
    "\n",
    "# Display the Terminal Value\n",
    "print(f\"\\nTerminal Value (in billions): {terminal_value_in_billions:.2f} billion\")\n",
    "print(\"Assumed Terminal Growth Rate of 5%\")\n",
    "\n"
   ]
  },
  {
   "cell_type": "markdown",
   "id": "12cfb8f0",
   "metadata": {},
   "source": [
    "## Discounting the Projected FCFs to Pesent Value: \n",
    "Now, as the future FCFs are calculated, the golden rule of finance is applied: discountion back to present value to make them additive. Once the discounted FCFs are discounted, and summed, we arrive at the enterprise value.  "
   ]
  },
  {
   "cell_type": "code",
   "execution_count": 97,
   "id": "646a939a",
   "metadata": {},
   "outputs": [
    {
     "name": "stdout",
     "output_type": "stream",
     "text": [
      "Discounted Future Free Cash Flows (in billions):\n",
      "Year 1: 101.95 billion\n",
      "Year 2: 104.38 billion\n",
      "Year 3: 106.86 billion\n",
      "Year 4: 109.40 billion\n",
      "Year 5: 112.00 billion\n",
      "\n",
      "Discounted Terminal Value (in billions): 2683.09 billion\n",
      "\n",
      "Enterprise Value (in billions): 3217.67 billion\n"
     ]
    }
   ],
   "source": [
    "# Discount the projected FCFs to the present value\n",
    "discounted_fcfs = [fcf / (1 + wacc) ** year for year, fcf in enumerate(future_fcfs, start=1)]\n",
    "\n",
    "# Discount the Terminal Value to the present value\n",
    "discounted_terminal_value = terminal_value / (1 + wacc) ** forecast_years\n",
    "\n",
    "# Convert discounted values to billions\n",
    "discounted_fcfs_in_billions = [fcf / 1e9 for fcf in discounted_fcfs]\n",
    "discounted_terminal_value_in_billions = discounted_terminal_value / 1e9\n",
    "\n",
    "# Display the discounted FCFs for each year\n",
    "print(\"Discounted Future Free Cash Flows (in billions):\")\n",
    "for i, fcf in enumerate(discounted_fcfs_in_billions, 1):\n",
    "    print(f\"Year {i}: {fcf:.2f} billion\")\n",
    "\n",
    "# Display the discounted Terminal Value\n",
    "print(f\"\\nDiscounted Terminal Value (in billions): {discounted_terminal_value_in_billions:.2f} billion\")\n",
    "\n",
    "# Sum up the discounted FCFs and Terminal Value to get the Enterprise Value\n",
    "enterprise_value = sum(discounted_fcfs) + discounted_terminal_value\n",
    "enterprise_value_in_billions = enterprise_value / 1e9\n",
    "\n",
    "# Display the Enterprise Value\n",
    "print(f\"\\nEnterprise Value (in billions): {enterprise_value_in_billions:.2f} billion\")\n",
    "\n"
   ]
  },
  {
   "cell_type": "markdown",
   "id": "4ce586fc",
   "metadata": {},
   "source": [
    "## Arriving at the Implied Share Price\n",
    "Since the enetrprise value, by definition, consists of the market value of debt and equity, once the market value of debt is known, the market value of equity can be calculated. If the latter is divided by the number of shares outstanding, we arrive at the implied share price. "
   ]
  },
  {
   "cell_type": "code",
   "execution_count": 107,
   "id": "d1777198",
   "metadata": {},
   "outputs": [
    {
     "name": "stdout",
     "output_type": "stream",
     "text": [
      "\n",
      "Enterprise Value (in billions): 3217.67 billion\n",
      "Net Debt: 81.12 billion\n",
      "Equity Value: 3136.54 billion\n",
      "Number of Shares Outstanding: 15204100096\n",
      "Implied Share Price: 206.30 $/share\n"
     ]
    }
   ],
   "source": [
    "# Implied share price\n",
    "# Retrieve cash and number of shares from yfinance\n",
    "cash = balance_sheet.loc['Cash And Cash Equivalents'][0] if 'Cash And Cash Equivalents' in balance_sheet.index else 0\n",
    "number_of_shares = aapl.info['sharesOutstanding']\n",
    "\n",
    "# Calculate Net Debt (Total Debt - Cash)\n",
    "net_debt = total_debt - cash\n",
    "\n",
    "# Equity Value = Enterprise Value - Net Debt\n",
    "equity_value = enterprise_value - net_debt  \n",
    "\n",
    "# Calculate Implied Share Price\n",
    "implied_share_price = equity_value / number_of_shares\n",
    "\n",
    "# Display the results\n",
    "print(f\"\\nEnterprise Value (in billions): {enterprise_value_in_billions:.2f} billion\")\n",
    "print(f\"Net Debt: {(net_debt/1e9):.2f} billion\")\n",
    "print(f\"Equity Value: {(equity_value/1e9):.2f} billion\")\n",
    "print(f\"Number of Shares Outstanding: {number_of_shares}\")\n",
    "print(f\"Implied Share Price: {implied_share_price:.2f} $/share\")"
   ]
  },
  {
   "cell_type": "markdown",
   "id": "17b6ae93",
   "metadata": {},
   "source": [
    "## Plotting the Actual and Implied Share Prices"
   ]
  },
  {
   "cell_type": "code",
   "execution_count": 108,
   "id": "2a55b021",
   "metadata": {},
   "outputs": [
    {
     "data": {
      "image/png": "[encoded data removed]",
      "text/plain": [
       "<Figure size 1000x600 with 1 Axes>"
      ]
     },
     "metadata": {},
     "output_type": "display_data"
    }
   ],
   "source": [
    "# Plotting the actual vs implied stock rpice\n",
    "# Retrieve historical stock data for AAPL over the last 5 years\n",
    "aapl = yf.Ticker(\"AAPL\")\n",
    "historical_data = aapl.history(period=\"5y\")\n",
    "\n",
    "# Extract the 'Close' price for the plot\n",
    "close_prices = historical_data['Close']\n",
    "\n",
    "# Generate a date range for the last 5 years\n",
    "dates = historical_data.index\n",
    "\n",
    "# Plot the historical share price\n",
    "plt.figure(figsize=(10, 6))\n",
    "plt.plot(dates, close_prices, label='AAPL Share Price', color='blue')\n",
    "\n",
    "# Add a dashed line for the implied share price\n",
    "plt.axhline(implied_share_price, color='red', linestyle='--', label=f'Implied Share Price: ${implied_share_price:.2f}')\n",
    "\n",
    "# Add labels, title, and legend\n",
    "plt.title(\"Apple Share Price (Last 5 Years) with Implied Share Price\")\n",
    "plt.xlabel(\"Date\")\n",
    "plt.ylabel(\"Share Price ($)\")\n",
    "plt.legend()\n",
    "\n",
    "# Show the plot\n",
    "plt.grid(True)\n",
    "plt.show()\n"
   ]
  }
 ],
 "metadata": {
  "kernelspec": {
   "display_name": "Python 3 (ipykernel)",
   "language": "python",
   "name": "python3"
  },
  "language_info": {
   "codemirror_mode": {
    "name": "ipython",
    "version": 3
   },
   "file_extension": ".py",
   "mimetype": "text/x-python",
   "name": "python",
   "nbconvert_exporter": "python",
   "pygments_lexer": "ipython3",
   "version": "3.11.5"
  }
 },
 "nbformat": 4,
 "nbformat_minor": 5
}
